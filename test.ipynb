{
 "cells": [
  {
   "cell_type": "code",
   "execution_count": 4,
   "id": "initial_id",
   "metadata": {
    "collapsed": true,
    "ExecuteTime": {
     "end_time": "2024-04-02T06:23:29.765949Z",
     "start_time": "2024-04-02T06:23:29.692146Z"
    }
   },
   "outputs": [
    {
     "name": "stdout",
     "output_type": "stream",
     "text": [
      "Computer's hand:  ['10♠', 'K♣']\n",
      "Player's hand:  ['7♥', '3♣']\n"
     ]
    }
   ],
   "source": [
    "import random\n",
    "\n",
    "N_RANK = 13\n",
    "N_SUIT = 4\n",
    "SUITS = (\"\\u2665\", \"\\u2666\", \"\\u2663\", \"\\u2660\")\n",
    "RANKS = ('A', '2', '3', '4', '5', '6', '7', '8', '9', '10', 'J', 'Q', 'K')\n",
    "VALUE = (11, 2, 3, 4, 5, 6, 7, 8, 9, 10, 10 ,10, 10)\n",
    "\n",
    "# create deck\n",
    "deck = {}\n",
    "for i in range(52):\n",
    "    deck[i] = True\n",
    "\n",
    "\n",
    "def get_card():\n",
    "    available_card = []\n",
    "    for key in deck:\n",
    "        if deck[key]:\n",
    "            available_card.append(key)\n",
    "    card = random.choice(available_card)\n",
    "    deck[card] = False\n",
    "    return card\n",
    "\n",
    "def display_card(index):\n",
    "    r = index //4\n",
    "    s = index % 4\n",
    "    return RANKS[r]+SUITS[s]\n",
    "\n",
    "\n",
    "def init_hand():\n",
    "    return [get_card(), get_card()]\n",
    "\n",
    "\n",
    "def score(hand):\n",
    "    s = 0\n",
    "    ranks_index = [i//4 for i in hand]\n",
    "    for index in ranks_index:\n",
    "        s += VALUE[index]\n",
    "    return s\n",
    "\n",
    "\n",
    "playing = True\n",
    "while playing:\n",
    "    computer_hand = init_hand()\n",
    "    player_hand = init_hand()\n",
    "    print(\"Computer's hand: \", [display_card(i) for i in computer_hand])\n",
    "    print(\"Player's hand: \", [display_card(i) for i in player_hand])\n",
    "    playing = False\n",
    "\n"
   ]
  },
  {
   "cell_type": "code",
   "outputs": [
    {
     "data": {
      "text/plain": "21"
     },
     "execution_count": 6,
     "metadata": {},
     "output_type": "execute_result"
    }
   ],
   "source": [
    "score([1,50])"
   ],
   "metadata": {
    "collapsed": false,
    "ExecuteTime": {
     "end_time": "2024-04-02T06:24:10.352492Z",
     "start_time": "2024-04-02T06:24:10.341485Z"
    }
   },
   "id": "6cd3e5217eb62a71",
   "execution_count": 6
  }
 ],
 "metadata": {
  "kernelspec": {
   "display_name": "Python 3",
   "language": "python",
   "name": "python3"
  },
  "language_info": {
   "codemirror_mode": {
    "name": "ipython",
    "version": 2
   },
   "file_extension": ".py",
   "mimetype": "text/x-python",
   "name": "python",
   "nbconvert_exporter": "python",
   "pygments_lexer": "ipython2",
   "version": "2.7.6"
  }
 },
 "nbformat": 4,
 "nbformat_minor": 5
}
